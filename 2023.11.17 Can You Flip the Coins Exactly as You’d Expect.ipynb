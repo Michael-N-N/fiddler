{
 "cells": [
  {
   "cell_type": "markdown",
   "metadata": {},
   "source": [
    "# Can You Flip the Coins Exactly as You’d Expect? (2023.11.17)\n",
    "\n",
    "mathematical puzzle of the week: https://thefiddler.substack.com/p/can-you-flip-the-coins-exactly-as"
   ]
  },
  {
   "cell_type": "markdown",
   "metadata": {},
   "source": [
    "## Math"
   ]
  },
  {
   "cell_type": "markdown",
   "metadata": {},
   "source": [
    "Let's see if I can solve this with my limited math skills...\n",
    "\n",
    " First, how many different permutations with one times three heads, three times two heads, three times one heads, and one time zero heads are there?\n",
    " $$\\left|A\\right|= \\frac{8!}{3! \\cdot 3!} = 1120$$\n"
   ]
  },
  {
   "cell_type": "markdown",
   "metadata": {},
   "source": [
    "Next, we calculate the propability of each of these permutations:\n",
    "$$\\mathbb{P}(a) = \\frac{1\\cdot 3^3 \\cdot 3^3 \\cdot 1 }{8^8} = \\frac{729}{8^8}$$"
   ]
  },
  {
   "cell_type": "markdown",
   "metadata": {},
   "source": [
    "Therefore, the probability that one of these permutations occur is:\n",
    "$$\\left|A\\right| \\cdot \\mathbb{P}(a) \\approx 4,867 \\%$$"
   ]
  },
  {
   "cell_type": "markdown",
   "metadata": {},
   "source": [
    "## Simulation\n",
    "\n",
    "Better check the result with Python:"
   ]
  },
  {
   "cell_type": "code",
   "execution_count": 1,
   "metadata": {},
   "outputs": [],
   "source": [
    "import numpy as np"
   ]
  },
  {
   "cell_type": "code",
   "execution_count": 4,
   "metadata": {},
   "outputs": [
    {
     "name": "stdout",
     "output_type": "stream",
     "text": [
      "The probability is 4.8700%.\n"
     ]
    }
   ],
   "source": [
    "rounds = 3000000\n",
    "\n",
    "r = [0,1,1,1,9,9,9,81] \n",
    "\n",
    "victories = sum([\n",
    "\tnp.sum(np.random.choice(r, 8)) == 111 \t# 1x0 + 3x1 + 3x9 + 1x81 = 111 \n",
    "\tfor _ in range(rounds)])\n",
    "\n",
    "print(f'The probability is {victories/rounds*100:.4f}%.')\n"
   ]
  },
  {
   "cell_type": "code",
   "execution_count": null,
   "metadata": {},
   "outputs": [],
   "source": []
  }
 ],
 "metadata": {
  "kernelspec": {
   "display_name": "Python 3",
   "language": "python",
   "name": "python3"
  },
  "language_info": {
   "codemirror_mode": {
    "name": "ipython",
    "version": 3
   },
   "file_extension": ".py",
   "mimetype": "text/x-python",
   "name": "python",
   "nbconvert_exporter": "python",
   "pygments_lexer": "ipython3",
   "version": "3.12.0"
  }
 },
 "nbformat": 4,
 "nbformat_minor": 2
}
