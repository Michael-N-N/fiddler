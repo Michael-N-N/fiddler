{
 "cells": [
  {
   "cell_type": "markdown",
   "metadata": {},
   "source": [
    "# Can You Race Around the Monopoly Board? (2023.12.01)\n",
    "\n",
    "Puzzle of the week: https://thefiddler.substack.com/p/can-you-race-around-the-monopoly"
   ]
  },
  {
   "cell_type": "markdown",
   "metadata": {},
   "source": [
    "## Monte-Carlo Simulation\n"
   ]
  },
  {
   "cell_type": "code",
   "execution_count": 14,
   "metadata": {},
   "outputs": [],
   "source": [
    "import pandas as pd\n",
    "import numpy as np\n",
    "\n",
    "trials = 10000000"
   ]
  },
  {
   "cell_type": "code",
   "execution_count": 12,
   "metadata": {},
   "outputs": [],
   "source": [
    "def play_game(n_dice, trials):\n",
    "\n",
    "\trolled_dice = np.zeros(trials) \n",
    "\tfor die in range(n_dice):\n",
    "\t\trolled_dice += np.random.randint(1, 7, trials) \n",
    "\n",
    "\tspaces = rolled_dice.copy()\n",
    "\tfor i in range (1, trials):\n",
    "\t\ttmp = spaces[i] + spaces[i-1]\n",
    "\t\tif tmp <= 39:\n",
    "\t\t\tspaces[i] = tmp \n",
    "\n",
    "\t# prepare pandas dataframe\n",
    "\tspace, counts = np.unique(spaces, return_counts=True)\n",
    "\tdf = pd.DataFrame({'Space': space, 'Counts': counts})\n",
    "\tdf['Counts %']= df['Counts'] / trials * 100\n",
    "\tdf_sorted = df.sort_values(by='Counts', ascending=False)\n",
    "\n",
    "\treturn df_sorted"
   ]
  },
  {
   "cell_type": "code",
   "execution_count": 19,
   "metadata": {},
   "outputs": [
    {
     "name": "stdout",
     "output_type": "stream",
     "text": [
      "   Space  Counts  Counts %\n",
      "5    7.0  343468   3.43468\n",
      "6    8.0  343333   3.43333\n",
      "7    9.0  336389   3.36389\n",
      "8   10.0  323846   3.23846\n",
      "9   11.0  300404   3.00404\n"
     ]
    }
   ],
   "source": [
    "df = play_game(2, trials)\n",
    "\n",
    "print(df.head())"
   ]
  },
  {
   "cell_type": "markdown",
   "metadata": {},
   "source": [
    "The result of the simuation is not fully clear. The counts of space 7 and 8 are close to each other. Therefore, we will calculate the probabity to land on these fields.\n",
    "\n",
    "The player land on space 7 if he rolls a 7, or 5 and 2, or 4 and 3. For an 8 the possibilites are 8, or 6 and 2, or 5 and 3, or 4 twice."
   ]
  },
  {
   "cell_type": "markdown",
   "metadata": {},
   "source": [
    "$$P(X=7) = \\frac{6}{36}+ 2! \\cdot \\frac{4 \\cdot 1}{36^2} + 2! \\cdot \\frac{3 \\cdot 2}{36^2} \\approx 0,182%$$\n",
    "$$P(X=8) = \\frac{5}{36}+ 2! \\cdot \\frac{5 \\cdot 1}{36^2} + 2! \\cdot \\frac{2 \\cdot 4}{36^2} + \\frac{3^2}{36^2}\\approx 0,166%$$"
   ]
  },
  {
   "cell_type": "markdown",
   "metadata": {},
   "source": [
    "**Solution**: No. 7 is the space on which the player will most likely land on in their first pass around the board. "
   ]
  },
  {
   "cell_type": "markdown",
   "metadata": {},
   "source": [
    "# Extra"
   ]
  },
  {
   "cell_type": "markdown",
   "metadata": {},
   "source": [
    "_Question:_ Putting that first side of the board aside, which space from 10 to 39 are players least likely to land on at some point during their first pass around the board?"
   ]
  },
  {
   "cell_type": "code",
   "execution_count": 23,
   "metadata": {},
   "outputs": [
    {
     "name": "stdout",
     "output_type": "stream",
     "text": [
      "    Space  Counts  Counts %\n",
      "20   22.0  276024   2.76024\n",
      "19   21.0  274967   2.74967\n",
      "10   12.0  267243   2.67243\n",
      "12   14.0  255555   2.55555\n",
      "11   13.0  217840   2.17840\n"
     ]
    }
   ],
   "source": [
    "df_2 = play_game(2, trials)\n",
    "\n",
    "print(df_2[df_2['Space'] >= 10].tail())"
   ]
  },
  {
   "cell_type": "markdown",
   "metadata": {},
   "source": [
    "**Solution:** Between the spaces 10 to 30, the least likely space to land on is 13. "
   ]
  },
  {
   "cell_type": "markdown",
   "metadata": {},
   "source": [
    "# Extra 2"
   ]
  },
  {
   "cell_type": "markdown",
   "metadata": {},
   "source": [
    "_Question_: What if you rolled three dice at a time instead of two?"
   ]
  },
  {
   "cell_type": "code",
   "execution_count": 24,
   "metadata": {},
   "outputs": [
    {
     "name": "stdout",
     "output_type": "stream",
     "text": [
      "    Space  Counts  Counts %\n",
      "26   29.0  278398   2.78398\n",
      "13   16.0  247046   2.47046\n",
      "16   19.0  242268   2.42268\n",
      "14   17.0  227107   2.27107\n",
      "15   18.0  225185   2.25185\n"
     ]
    }
   ],
   "source": [
    "df_3 = play_game(3, trials)\n",
    "\n",
    "print(df_3[df_3['Space'] >= 10].tail())"
   ]
  },
  {
   "cell_type": "markdown",
   "metadata": {},
   "source": [
    "**Solution:** With three dice space 18 is the least likely space."
   ]
  },
  {
   "cell_type": "markdown",
   "metadata": {},
   "source": []
  }
 ],
 "metadata": {
  "kernelspec": {
   "display_name": "Python 3",
   "language": "python",
   "name": "python3"
  },
  "language_info": {
   "codemirror_mode": {
    "name": "ipython",
    "version": 3
   },
   "file_extension": ".py",
   "mimetype": "text/x-python",
   "name": "python",
   "nbconvert_exporter": "python",
   "pygments_lexer": "ipython3",
   "version": "3.12.0"
  }
 },
 "nbformat": 4,
 "nbformat_minor": 2
}
