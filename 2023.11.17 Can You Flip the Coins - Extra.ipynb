{
 "cells": [
  {
   "cell_type": "markdown",
   "metadata": {},
   "source": [
    "# Can You Flip the Coins Exactly as You’d Expect? (2023.11.17)\n",
    "\n",
    "mathematical puzzle of the week: https://thefiddler.substack.com/p/can-you-flip-the-coins-exactly-as"
   ]
  },
  {
   "cell_type": "markdown",
   "metadata": {},
   "source": [
    "## II. Extra Credit"
   ]
  },
  {
   "cell_type": "code",
   "execution_count": 4,
   "metadata": {},
   "outputs": [],
   "source": [
    "import numpy as np\n",
    "import math"
   ]
  },
  {
   "cell_type": "code",
   "execution_count": 5,
   "metadata": {},
   "outputs": [],
   "source": [
    "def weak_compositions(boxes, balls, parent=tuple()): \n",
    "  \"\"\" \n",
    "  Generator to create an array for a weak composition\n",
    "   source code from: https://stackoverflow.com/questions/4647120/next-composition-of-n-into-k-parts-does-anyone-have-a-working-algorithm\n",
    "  \"\"\"\n",
    "  if boxes > 1:\n",
    "    for i in range(balls + 1):\n",
    "      for x in weak_compositions(boxes - 1, i, parent + (balls - i,)):\n",
    "        yield x\n",
    "  else:\n",
    "    yield parent + (balls,)"
   ]
  },
  {
   "cell_type": "code",
   "execution_count": 17,
   "metadata": {},
   "outputs": [],
   "source": [
    "n_rounds = 8 \t# number of rounds\n",
    "n_outcome = 4 \t# number of possible outcomes (0, 1, 2 or 3 heads)"
   ]
  },
  {
   "cell_type": "code",
   "execution_count": 18,
   "metadata": {},
   "outputs": [],
   "source": [
    "compositions = np.fromiter(\t\t\t \n",
    "\tweak_compositions(n_outcome, n_rounds), \n",
    "\tdtype=np.dtype((int, n_outcome))) \t# array with the (weak) compositions of the outcome\n",
    "\n",
    "n_compositions = len(compositions) \t\t# number of all compositions"
   ]
  },
  {
   "cell_type": "code",
   "execution_count": 19,
   "metadata": {},
   "outputs": [],
   "source": [
    "# Calculate the probabilty of all compositions.\n",
    "# This requires the number of different permutations for one composition and the probability \n",
    "# of these permutations.\n",
    "\n",
    "weights = np.array([1/8, 3/8, 3/8, 1/8]) \t# probabilities of outcome (0, 1, 2 and 3 heads)\n",
    "\n",
    "prob_of_permutation =  np.prod(weights ** compositions, axis=1) # probabilites for one permutation for the 'compositions' array\n",
    "\n",
    "# calculate the number of permutations\n",
    "occurence = []\n",
    "for j in range(n_compositions):\n",
    "\toccurence.append(\n",
    "\t\t(40320/math.prod([\t\t\t# 8! = 40320\n",
    "\t\t\tmath.factorial(compositions[j][i]) \n",
    "\t\t\tfor i in range(n_outcome)])))\n",
    "\n",
    "\n",
    "prob_results = prob_of_permutation * occurence # array with probabilities of the compositions "
   ]
  },
  {
   "cell_type": "code",
   "execution_count": 25,
   "metadata": {},
   "outputs": [],
   "source": [
    "# To get the ordered quadruple (a, b, c, d) we sort the 'compositions' array and create a unique array from that sorted list.  \n",
    "\n",
    "def sort_row(row):\n",
    "    return np.sort(row)[::-1]\n",
    "\n",
    "compositions_sorted = np.apply_along_axis(sort_row, axis=1, arr=compositions)\n",
    "\n",
    "quadruple = np.unique(compositions_sorted,axis=0)[::-1]\n"
   ]
  },
  {
   "cell_type": "code",
   "execution_count": null,
   "metadata": {},
   "outputs": [],
   "source": [
    "# Calculate the probability of each quadruple (a, b, c, d)\n",
    "\n",
    "quadruple_prob = []\n",
    "for index, value in enumerate(quadruple):\n",
    "\tprob_indices = np.where(np.all(compositions_sorted == value, axis=1))[0]\n",
    "\tquadruple_prob.append(np.sum(prob_results[prob_indices]))\n"
   ]
  },
  {
   "cell_type": "code",
   "execution_count": 43,
   "metadata": {},
   "outputs": [
    {
     "name": "stdout",
     "output_type": "stream",
     "text": [
      "[4 3 1 0]: 17.50%\n",
      "[3 2 2 1]: 14.06%\n",
      "[5 2 1 0]: 12.81%\n",
      "[4 2 1 1]: 12.80%\n",
      "[3 3 2 0]: 8.53%\n",
      "[4 2 2 0]: 8.20%\n",
      "[3 3 1 1]: 7.09%\n",
      "[5 3 0 0]: 4.74%\n",
      "[6 1 1 0]: 3.42%\n",
      "[5 1 1 1]: 2.96%\n",
      "[4 4 0 0]: 2.87%\n",
      "[6 2 0 0]: 2.68%\n",
      "[2 2 2 2]: 1.22%\n",
      "[7 1 0 0]: 1.04%\n",
      "[8 0 0 0]: 0.08%\n"
     ]
    }
   ],
   "source": [
    "# Print the results in an ordered list.\n",
    "\n",
    "sort_index = np.argsort(quadruple_prob)[::-1]\n",
    "\n",
    "for index, value in enumerate(sort_index):\n",
    "\tprint(f'{quadruple[value]}: {100*quadruple_prob[value]:2.2f}%')\n"
   ]
  }
 ],
 "metadata": {
  "kernelspec": {
   "display_name": "Python 3",
   "language": "python",
   "name": "python3"
  },
  "language_info": {
   "codemirror_mode": {
    "name": "ipython",
    "version": 3
   },
   "file_extension": ".py",
   "mimetype": "text/x-python",
   "name": "python",
   "nbconvert_exporter": "python",
   "pygments_lexer": "ipython3",
   "version": "3.12.0"
  }
 },
 "nbformat": 4,
 "nbformat_minor": 2
}
